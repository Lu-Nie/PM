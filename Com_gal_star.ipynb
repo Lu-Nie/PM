{
 "cells": [
  {
   "cell_type": "code",
   "execution_count": 5,
   "metadata": {},
   "outputs": [],
   "source": [
    "import pandas as pd\n",
    "from astropy.io import fits\n",
    "from astropy.table import Table\n",
    "import matplotlib.pyplot as plt\n",
    "%matplotlib inline\n",
    "import numpy as np"
   ]
  },
  {
   "cell_type": "code",
   "execution_count": 6,
   "metadata": {},
   "outputs": [],
   "source": [
    "gal = pd.read_csv('./data/B9ComB11_gal3.0.csv')\n",
    "star = pd.read_csv('./data/B9ComB11_star3.0.csv')"
   ]
  },
  {
   "cell_type": "code",
   "execution_count": 9,
   "metadata": {},
   "outputs": [],
   "source": [
    "igal = 1\n",
    "istar = 0\n",
    "gal_mr = 0\n",
    "gall = []\n",
    "gall_mr = []"
   ]
  },
  {
   "cell_type": "code",
   "execution_count": 10,
   "metadata": {},
   "outputs": [],
   "source": [
    "for i in range(len(gal['objid'])):\n",
    "    gall.append(igal)\n",
    "    gall_mr.append(gal_mr)"
   ]
  },
  {
   "cell_type": "code",
   "execution_count": 12,
   "metadata": {},
   "outputs": [
    {
     "name": "stdout",
     "output_type": "stream",
     "text": [
      "2542\n"
     ]
    }
   ],
   "source": [
    "print(len(gall_mr))"
   ]
  },
  {
   "cell_type": "code",
   "execution_count": 13,
   "metadata": {},
   "outputs": [],
   "source": [
    "data = {'objid':gal['objid'],'obj_id':gal['obj_id'],'ra':gal['ra'], 'dec':gal['dec'],'X':gal['X'], 'Y':gal['Y'], 'mr':gall_mr,'mjd':gal['mjd'], 'gal':gall}\n",
    "dataframe = pd.DataFrame(data, columns = ['objid','obj_id','ra','dec','X','Y','mr','mjd','gal'])#columns自定义列的索引值\n",
    "dataframe.to_csv(r'B9ComB11_gal4.0.csv')"
   ]
  },
  {
   "cell_type": "code",
   "execution_count": 14,
   "metadata": {},
   "outputs": [],
   "source": [
    "objid = 2542\n",
    "obj_id = 1271\n",
    "objid_list = []\n",
    "obj_id_list = []\n",
    "starl = []"
   ]
  },
  {
   "cell_type": "code",
   "execution_count": 15,
   "metadata": {},
   "outputs": [],
   "source": [
    "for i in range(len(star['objid'])):\n",
    "    starl.append(istar)\n",
    "    objid_list.append(star['objid'][i]+objid)\n",
    "    obj_id_list.append(star['obj_id'][i]+obj_id)"
   ]
  },
  {
   "cell_type": "code",
   "execution_count": 17,
   "metadata": {},
   "outputs": [
    {
     "name": "stdout",
     "output_type": "stream",
     "text": [
      "1272\n"
     ]
    }
   ],
   "source": [
    "print(obj_id_list[0])"
   ]
  },
  {
   "cell_type": "code",
   "execution_count": 18,
   "metadata": {},
   "outputs": [],
   "source": [
    "data = {'objid':objid_list,'obj_id':obj_id_list,'ra':star['ra'], 'dec':star['dec'],'X':star['X'], 'Y':star['Y'], 'mr':star['mr'],'mjd':star['mjd'], 'gal':starl}\n",
    "dataframe = pd.DataFrame(data, columns = ['objid','obj_id','ra','dec','X','Y','mr','mjd','gal'])#columns自定义列的索引值\n",
    "dataframe.to_csv(r'./data/B9ComB11_star4.0.csv')"
   ]
  },
  {
   "cell_type": "code",
   "execution_count": null,
   "metadata": {},
   "outputs": [],
   "source": []
  }
 ],
 "metadata": {
  "kernelspec": {
   "display_name": "Python 2",
   "language": "python",
   "name": "python2"
  },
  "language_info": {
   "codemirror_mode": {
    "name": "ipython",
    "version": 2
   },
   "file_extension": ".py",
   "mimetype": "text/x-python",
   "name": "python",
   "nbconvert_exporter": "python",
   "pygments_lexer": "ipython2",
   "version": "2.7.15"
  }
 },
 "nbformat": 4,
 "nbformat_minor": 2
}
