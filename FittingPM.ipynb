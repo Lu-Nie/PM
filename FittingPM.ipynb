{
 "cells": [
  {
   "cell_type": "code",
   "execution_count": 1,
   "metadata": {},
   "outputs": [
    {
     "ename": "ImportError",
     "evalue": "No module named _multiarray_umath",
     "output_type": "error",
     "traceback": [
      "\u001b[0;31m---------------------------------------------------------------------------\u001b[0m",
      "\u001b[0;31mImportError\u001b[0m                               Traceback (most recent call last)",
      "\u001b[0;31mImportError\u001b[0m: No module named _multiarray_umath"
     ]
    },
    {
     "ename": "ImportError",
     "evalue": "No module named _multiarray_umath",
     "output_type": "error",
     "traceback": [
      "\u001b[0;31m---------------------------------------------------------------------------\u001b[0m",
      "\u001b[0;31mImportError\u001b[0m                               Traceback (most recent call last)",
      "\u001b[0;31mImportError\u001b[0m: No module named _multiarray_umath"
     ]
    },
    {
     "ename": "ImportError",
     "evalue": "numpy.core.multiarray failed to import",
     "output_type": "error",
     "traceback": [
      "\u001b[0;31m---------------------------------------------------------------------------\u001b[0m",
      "\u001b[0;31mImportError\u001b[0m                               Traceback (most recent call last)",
      "\u001b[0;32m<ipython-input-1-c0bbd483a0b3>\u001b[0m in \u001b[0;36m<module>\u001b[0;34m()\u001b[0m\n\u001b[1;32m      2\u001b[0m \u001b[0;32mimport\u001b[0m \u001b[0mtables\u001b[0m\u001b[0;34m\u001b[0m\u001b[0m\n\u001b[1;32m      3\u001b[0m \u001b[0;32mimport\u001b[0m \u001b[0mmatplotlib\u001b[0m\u001b[0;34m.\u001b[0m\u001b[0mpyplot\u001b[0m \u001b[0;32mas\u001b[0m \u001b[0mplt\u001b[0m\u001b[0;34m\u001b[0m\u001b[0m\n\u001b[0;32m----> 4\u001b[0;31m \u001b[0;32mfrom\u001b[0m \u001b[0mesutil\u001b[0m\u001b[0;34m.\u001b[0m\u001b[0mcoords\u001b[0m \u001b[0;32mimport\u001b[0m \u001b[0msphdist\u001b[0m\u001b[0;34m\u001b[0m\u001b[0m\n\u001b[0m\u001b[1;32m      5\u001b[0m \u001b[0;31m#from astropy.time import Time\u001b[0m\u001b[0;34m\u001b[0m\u001b[0;34m\u001b[0m\u001b[0m\n\u001b[1;32m      6\u001b[0m \u001b[0;32mfrom\u001b[0m \u001b[0mtime\u001b[0m \u001b[0;32mimport\u001b[0m \u001b[0mtime\u001b[0m\u001b[0;34m\u001b[0m\u001b[0m\n",
      "\u001b[0;32m/home/njl/anaconda2/lib/python2.7/site-packages/esutil/__init__.py\u001b[0m in \u001b[0;36m<module>\u001b[0;34m()\u001b[0m\n\u001b[1;32m    111\u001b[0m \u001b[0;32mfrom\u001b[0m \u001b[0;34m.\u001b[0m \u001b[0;32mimport\u001b[0m \u001b[0mostools\u001b[0m\u001b[0;34m\u001b[0m\u001b[0m\n\u001b[1;32m    112\u001b[0m \u001b[0;32mfrom\u001b[0m \u001b[0;34m.\u001b[0m \u001b[0;32mimport\u001b[0m \u001b[0mmisc\u001b[0m\u001b[0;34m\u001b[0m\u001b[0m\n\u001b[0;32m--> 113\u001b[0;31m \u001b[0;32mfrom\u001b[0m \u001b[0;34m.\u001b[0m \u001b[0;32mimport\u001b[0m \u001b[0mintegrate\u001b[0m\u001b[0;34m\u001b[0m\u001b[0m\n\u001b[0m\u001b[1;32m    114\u001b[0m \u001b[0;32mfrom\u001b[0m \u001b[0;34m.\u001b[0m \u001b[0;32mimport\u001b[0m \u001b[0mjson_util\u001b[0m\u001b[0;34m\u001b[0m\u001b[0m\n\u001b[1;32m    115\u001b[0m \u001b[0;32mfrom\u001b[0m \u001b[0;34m.\u001b[0m \u001b[0;32mimport\u001b[0m \u001b[0mstat\u001b[0m\u001b[0;34m\u001b[0m\u001b[0m\n",
      "\u001b[0;32m/home/njl/anaconda2/lib/python2.7/site-packages/esutil/integrate/__init__.py\u001b[0m in \u001b[0;36m<module>\u001b[0;34m()\u001b[0m\n\u001b[0;32m----> 1\u001b[0;31m \u001b[0;32mfrom\u001b[0m \u001b[0;34m.\u001b[0m \u001b[0;32mimport\u001b[0m \u001b[0mutil\u001b[0m\u001b[0;34m\u001b[0m\u001b[0m\n\u001b[0m\u001b[1;32m      2\u001b[0m \u001b[0;32mfrom\u001b[0m \u001b[0;34m.\u001b[0m\u001b[0mutil\u001b[0m \u001b[0;32mimport\u001b[0m \u001b[0;34m*\u001b[0m\u001b[0;34m\u001b[0m\u001b[0m\n",
      "\u001b[0;32m/home/njl/anaconda2/lib/python2.7/site-packages/esutil/integrate/util.py\u001b[0m in \u001b[0;36m<module>\u001b[0;34m()\u001b[0m\n\u001b[1;32m     18\u001b[0m \u001b[0;32mfrom\u001b[0m \u001b[0msys\u001b[0m \u001b[0;32mimport\u001b[0m \u001b[0mstdout\u001b[0m\u001b[0;34m\u001b[0m\u001b[0m\n\u001b[1;32m     19\u001b[0m \u001b[0;32mimport\u001b[0m \u001b[0mnumpy\u001b[0m\u001b[0;34m\u001b[0m\u001b[0m\n\u001b[0;32m---> 20\u001b[0;31m \u001b[0;32mfrom\u001b[0m \u001b[0;34m.\u001b[0m\u001b[0;34m.\u001b[0m \u001b[0;32mimport\u001b[0m \u001b[0mstat\u001b[0m\u001b[0;34m\u001b[0m\u001b[0m\n\u001b[0m\u001b[1;32m     21\u001b[0m \u001b[0;32mfrom\u001b[0m \u001b[0;34m.\u001b[0m\u001b[0;34m.\u001b[0m \u001b[0;32mimport\u001b[0m \u001b[0mnumpy_util\u001b[0m\u001b[0;34m\u001b[0m\u001b[0m\n\u001b[1;32m     22\u001b[0m \u001b[0;34m\u001b[0m\u001b[0m\n",
      "\u001b[0;32m/home/njl/anaconda2/lib/python2.7/site-packages/esutil/stat/__init__.py\u001b[0m in \u001b[0;36m<module>\u001b[0;34m()\u001b[0m\n\u001b[1;32m     25\u001b[0m \u001b[0;34m\u001b[0m\u001b[0m\n\u001b[1;32m     26\u001b[0m \u001b[0;34m\u001b[0m\u001b[0m\n\u001b[0;32m---> 27\u001b[0;31m \u001b[0;32mfrom\u001b[0m \u001b[0;34m.\u001b[0m \u001b[0;32mimport\u001b[0m \u001b[0mutil\u001b[0m\u001b[0;34m\u001b[0m\u001b[0m\n\u001b[0m\u001b[1;32m     28\u001b[0m \u001b[0;32mfrom\u001b[0m \u001b[0;34m.\u001b[0m\u001b[0mutil\u001b[0m \u001b[0;32mimport\u001b[0m \u001b[0;34m*\u001b[0m\u001b[0;34m\u001b[0m\u001b[0m\n\u001b[1;32m     29\u001b[0m \u001b[0;32mfrom\u001b[0m \u001b[0;34m.\u001b[0m \u001b[0;32mimport\u001b[0m \u001b[0munit_tests\u001b[0m\u001b[0;34m\u001b[0m\u001b[0m\n",
      "\u001b[0;32m/home/njl/anaconda2/lib/python2.7/site-packages/esutil/stat/util.py\u001b[0m in \u001b[0;36m<module>\u001b[0;34m()\u001b[0m\n\u001b[1;32m     67\u001b[0m     \u001b[0mhave_numpy\u001b[0m\u001b[0;34m=\u001b[0m\u001b[0mFalse\u001b[0m\u001b[0;34m\u001b[0m\u001b[0m\n\u001b[1;32m     68\u001b[0m \u001b[0;34m\u001b[0m\u001b[0m\n\u001b[0;32m---> 69\u001b[0;31m \u001b[0;32mfrom\u001b[0m \u001b[0;34m.\u001b[0m \u001b[0;32mimport\u001b[0m \u001b[0m_stat_util\u001b[0m\u001b[0;34m\u001b[0m\u001b[0m\n\u001b[0m\u001b[1;32m     70\u001b[0m \u001b[0;34m\u001b[0m\u001b[0m\n\u001b[1;32m     71\u001b[0m \u001b[0;32mclass\u001b[0m \u001b[0mBinner\u001b[0m\u001b[0;34m(\u001b[0m\u001b[0mdict\u001b[0m\u001b[0;34m)\u001b[0m\u001b[0;34m:\u001b[0m\u001b[0;34m\u001b[0m\u001b[0m\n",
      "\u001b[0;31mImportError\u001b[0m: numpy.core.multiarray failed to import"
     ]
    }
   ],
   "source": [
    "import numpy as np\n",
    "import tables\n",
    "import matplotlib.pyplot as plt\n",
    "from esutil.coords import sphdist\n",
    "#from astropy.time import Time\n",
    "from time import time\n",
    "from matplotlib.mlab import griddata\n",
    "from mpl_toolkits.axes_grid1 import make_axes_locatable\n",
    "import plotfun as pf\n",
    "import sqlite3\n",
    "import sys\n",
    "import os\n",
    "#from lsd import DB\n",
    "#from lsd import bounds as lsdbounds\n",
    "import healpy as hp\n",
    "from multiprocessing import Pool\n",
    "import spherical_to_tangential as s2t\n",
    "import random\n",
    "import astropy.io.fits as fits\n",
    "import glob as gb\n",
    "from esutil.numpy_util import match\n",
    "import esutil\n",
    "from astropy.time import Time\n",
    "import pmfuns\n",
    "import pandas as pd\n",
    "from astropy.table import Table\n",
    "htm_mesh = esutil.htm.HTM(10)"
   ]
  },
  {
   "cell_type": "code",
   "execution_count": 2,
   "metadata": {},
   "outputs": [],
   "source": [
    "root = \"./data/\" \n",
    "input_file = './data_per/hlsp_phat_hst_acs-wfc_12057-m31-b09-f01_f475w-f814w_v1_gst.fits'\n",
    "hdu_list = fits.open(input_file, memmap=True)\n",
    "evt_data = Table(hdu_list[1].data)\n",
    "CRA = np.median(evt_data['RA'])\n",
    "CDE = np.median(evt_data['DEC'])"
   ]
  },
  {
   "cell_type": "code",
   "execution_count": 3,
   "metadata": {},
   "outputs": [],
   "source": [
    "plotFlag = False\n",
    "chunkNo = 0\n",
    "h5fileName = \"correctedStarMock\" + \"%d\" %chunkNo\n",
    "h5file = tables.open_file(root+\"%s.h5\" %h5fileName)\n",
    "table = h5file.root.correctedStar"
   ]
  },
  {
   "cell_type": "code",
   "execution_count": 4,
   "metadata": {},
   "outputs": [
    {
     "name": "stdout",
     "output_type": "stream",
     "text": [
      "No coverage in SDSS this chunk\n",
      "2 2\n",
      "4682       0\n",
      "4683    1118\n",
      "Name: mjd, dtype: int64 [   0. 1118.]\n",
      "4682    0.000000\n",
      "4683    7.134718\n",
      "dtype: float64 [0.         7.90152661]\n",
      "important: 4682    8.961094\n",
      "4683    0.000000\n",
      "dtype: float64 [0.         9.78471683]\n"
     ]
    },
    {
     "ename": "UnboundLocalError",
     "evalue": "local variable 'xtmp' referenced before assignment",
     "output_type": "error",
     "traceback": [
      "\u001b[0;31m---------------------------------------------------------------------------\u001b[0m",
      "\u001b[0;31mUnboundLocalError\u001b[0m                         Traceback (most recent call last)",
      "\u001b[0;32m<ipython-input-4-c56a166a17d1>\u001b[0m in \u001b[0;36m<module>\u001b[0;34m()\u001b[0m\n\u001b[1;32m     73\u001b[0m     \u001b[0mcounterForRows\u001b[0m \u001b[0;34m=\u001b[0m \u001b[0;36m0\u001b[0m\u001b[0;34m\u001b[0m\u001b[0m\n\u001b[1;32m     74\u001b[0m     \u001b[0mpm\u001b[0m \u001b[0;34m=\u001b[0m \u001b[0;34m[\u001b[0m\u001b[0;34m]\u001b[0m\u001b[0;34m\u001b[0m\u001b[0m\n\u001b[0;32m---> 75\u001b[0;31m     \u001b[0;32mfor\u001b[0m \u001b[0mres\u001b[0m \u001b[0;32min\u001b[0m \u001b[0miterator\u001b[0m\u001b[0;34m:\u001b[0m\u001b[0;34m\u001b[0m\u001b[0m\n\u001b[0m\u001b[1;32m     76\u001b[0m         \u001b[0;32mif\u001b[0m \u001b[0;34m(\u001b[0m\u001b[0mlen\u001b[0m\u001b[0;34m(\u001b[0m\u001b[0mres\u001b[0m\u001b[0;34m)\u001b[0m\u001b[0;34m==\u001b[0m\u001b[0;36m0\u001b[0m\u001b[0;34m)\u001b[0m\u001b[0;34m:\u001b[0m\u001b[0;34m\u001b[0m\u001b[0m\n\u001b[1;32m     77\u001b[0m             \u001b[0;32mprint\u001b[0m \u001b[0;34m\"there is no enough observation:\"\u001b[0m\u001b[0;34m,\u001b[0m \u001b[0mres\u001b[0m\u001b[0;34m\u001b[0m\u001b[0m\n",
      "\u001b[0;32m/home/njl/anaconda2/lib/python2.7/multiprocessing/pool.pyc\u001b[0m in \u001b[0;36m<genexpr>\u001b[0;34m(***failed resolving arguments***)\u001b[0m\n\u001b[1;32m    287\u001b[0m             self._taskqueue.put((((result._job, i, mapstar, (x,), {})\n\u001b[1;32m    288\u001b[0m                      for i, x in enumerate(task_batches)), result._set_length))\n\u001b[0;32m--> 289\u001b[0;31m             \u001b[0;32mreturn\u001b[0m \u001b[0;34m(\u001b[0m\u001b[0mitem\u001b[0m \u001b[0;32mfor\u001b[0m \u001b[0mchunk\u001b[0m \u001b[0;32min\u001b[0m \u001b[0mresult\u001b[0m \u001b[0;32mfor\u001b[0m \u001b[0mitem\u001b[0m \u001b[0;32min\u001b[0m \u001b[0mchunk\u001b[0m\u001b[0;34m)\u001b[0m\u001b[0;34m\u001b[0m\u001b[0m\n\u001b[0m\u001b[1;32m    290\u001b[0m \u001b[0;34m\u001b[0m\u001b[0m\n\u001b[1;32m    291\u001b[0m     \u001b[0;32mdef\u001b[0m \u001b[0mapply_async\u001b[0m\u001b[0;34m(\u001b[0m\u001b[0mself\u001b[0m\u001b[0;34m,\u001b[0m \u001b[0mfunc\u001b[0m\u001b[0;34m,\u001b[0m \u001b[0margs\u001b[0m\u001b[0;34m=\u001b[0m\u001b[0;34m(\u001b[0m\u001b[0;34m)\u001b[0m\u001b[0;34m,\u001b[0m \u001b[0mkwds\u001b[0m\u001b[0;34m=\u001b[0m\u001b[0;34m{\u001b[0m\u001b[0;34m}\u001b[0m\u001b[0;34m,\u001b[0m \u001b[0mcallback\u001b[0m\u001b[0;34m=\u001b[0m\u001b[0mNone\u001b[0m\u001b[0;34m)\u001b[0m\u001b[0;34m:\u001b[0m\u001b[0;34m\u001b[0m\u001b[0m\n",
      "\u001b[0;32m/home/njl/anaconda2/lib/python2.7/multiprocessing/pool.pyc\u001b[0m in \u001b[0;36mnext\u001b[0;34m(self, timeout)\u001b[0m\n\u001b[1;32m    671\u001b[0m         \u001b[0;32mif\u001b[0m \u001b[0msuccess\u001b[0m\u001b[0;34m:\u001b[0m\u001b[0;34m\u001b[0m\u001b[0m\n\u001b[1;32m    672\u001b[0m             \u001b[0;32mreturn\u001b[0m \u001b[0mvalue\u001b[0m\u001b[0;34m\u001b[0m\u001b[0m\n\u001b[0;32m--> 673\u001b[0;31m         \u001b[0;32mraise\u001b[0m \u001b[0mvalue\u001b[0m\u001b[0;34m\u001b[0m\u001b[0m\n\u001b[0m\u001b[1;32m    674\u001b[0m \u001b[0;34m\u001b[0m\u001b[0m\n\u001b[1;32m    675\u001b[0m     \u001b[0m__next__\u001b[0m \u001b[0;34m=\u001b[0m \u001b[0mnext\u001b[0m                    \u001b[0;31m# XXX\u001b[0m\u001b[0;34m\u001b[0m\u001b[0m\n",
      "\u001b[0;31mUnboundLocalError\u001b[0m: local variable 'xtmp' referenced before assignment"
     ]
    }
   ],
   "source": [
    "if(1):\n",
    "    try:\n",
    "        h5fileNameSDSS = \"correctedStarSDSSMock\" + \"%d\" %chunkNo\n",
    "        h5fileSDSS = tables.open_file(root+\"%s.h5\" %h5fileNameSDSS)\n",
    "        tableSDSS = h5fileSDSS.root.correctedStar\n",
    "    except IOError or tables.exceptions.HDF5ExtError or tables.exceptions.NoSuchNodeError:\n",
    "        tableSDSS = 0\n",
    "\n",
    "\n",
    "    magMask = '(mr>12.0) & (mr<30.0)'#'(mr>12.0) & (mr<18.5)'\n",
    "\n",
    "    table0 = table.read_where(magMask)\n",
    "    obj_id0 = table0['obj_id']\n",
    "    ra0 = np.float64(table0['ra'])\n",
    "    #raErr0 = table0['raErr']\n",
    "    dec0 = np.float64(table0['dec'])\n",
    "    #decErr0 = table0['decErr']\n",
    "    mjd0 = table0['mjd']\n",
    "    mr0 = table0['mr']\n",
    "    \n",
    "    h5file.close()\n",
    "\n",
    "    if(tableSDSS==0):\n",
    "        obj_id1 = np.zeros(10) - 999\n",
    "        ra1 = np.zeros(10)\n",
    "        raErr1 = np.zeros(10)\n",
    "        dec1 = np.zeros(10)\n",
    "        decErr1 = np.zeros(10)\n",
    "        mjd1 = np.zeros(10)\n",
    "\tprint \"No coverage in SDSS this chunk\"\t\n",
    "    else:\n",
    "        obj_id1 = tableSDSS.col('obj_id')\n",
    "        ra1 = tableSDSS.col('ra')\n",
    "        raErr1 = tableSDSS.col('raErr')\n",
    "        dec1 = tableSDSS.col('dec')\n",
    "        decErr1 = tableSDSS.col('decErr')\n",
    "        mjd1 = tableSDSS.col('mjd')\n",
    "        h5fileSDSS.close()\n",
    "\n",
    "    uniqueStar = np.unique(obj_id0)\n",
    "    #m1, m2 = match(uniqueStar, obj_id1, presorted=True)\n",
    "    #uniqueStar = np.unique(uniqueStar[m1])\n",
    "\n",
    "\n",
    "    csst_o = pd.read_csv('./data/all.csv')\n",
    "    test_cri = (csst_o['obj_id'] == uniqueStar[0])\n",
    "    obj_cri = (obj_id0 == uniqueStar[0])\n",
    "    print sum(test_cri), sum(obj_cri)\n",
    "    print csst_o['mjd'][test_cri]-min(csst_o['mjd'][test_cri]), mjd0[obj_cri]-min(mjd0[obj_cri])\n",
    "    #print csst_o['ra'][test_cri], ra0[obj_cri]\n",
    "\n",
    "    xitmp0, etatmp0, status = s2t.ds2tp(csst_o['ra'][test_cri], csst_o['dec'][test_cri], CRA, CDE)\n",
    "    xitmp0_, etatmp0_, status = s2t.ds2tp(ra0[obj_cri], dec0[obj_cri], CRA, CDE)\n",
    "    print (xitmp0-min(xitmp0))*3600000, (xitmp0_-min(xitmp0_))*3600000\n",
    "    print \"important:\", (etatmp0-min(etatmp0))*3600000, (etatmp0_-min(etatmp0_))*3600000\n",
    "\n",
    "\n",
    "\n",
    "    #print raErr0, decErr0\n",
    "    obj_id2 = np.zeros(10) - 999\n",
    "    ra2 = np.zeros(10)\n",
    "    raErr2 = np.zeros(10)\n",
    "    dec2 = np.zeros(10)\n",
    "    decErr2 = np.zeros(10)\n",
    "    mjd2 = np.zeros(10)\n",
    "    #rand = random.sample(range(len(uniqueStar)), 30000)\n",
    "    packParameterList = [(index, uniqueID, obj_id0, ra0, \\\n",
    "\tdec0, mjd0, mr0, \\\n",
    "\tobj_id1, ra1, raErr1, dec1, decErr1, mjd1, obj_id2, ra2, raErr2, dec2, decErr2, mjd2, \\\n",
    "\tplotFlag, 0, CRA, CDE, root) for index, uniqueID in enumerate(uniqueStar[0:10])]\n",
    "\n",
    "\n",
    "    pool = Pool(processes=10)\n",
    "    iterator = pool.imap_unordered(pf.fittingPM3,packParameterList, chunksize=100)\n",
    "\n",
    "    counterForRows = 0\n",
    "    pm = []\n",
    "    for res in iterator:\n",
    "\tif (len(res)==0):\n",
    "\t    print \"there is no enough observation:\", res\n",
    "\telse:\n",
    "\t    uniqueID_, rMagtmp_, R2XI_, chi2XI_, muXI_, muErrXI_, muXxi_, muErrXxi_, R2ETA_, \\\n",
    "\t        chi2ETA_, muETA_, muErrETA_, muXeta_, muErrXeta_, xpm_, flag_, ra0_, dec0_ = res\n",
    "\t    pm.append([uniqueID_, rMagtmp_, R2XI_, chi2XI_, muXI_, muErrXI_, muXxi_, muErrXxi_, R2ETA_, \\\n",
    "\t        chi2ETA_, muETA_, muErrETA_, muXeta_, muErrXeta_, xpm_, flag_, ra0_, dec0_])\n",
    "\t    counterForRows += 1\n",
    "\t#print counterForRows\n",
    "\n",
    "    #terminate the pool of multiprocessors\n",
    "    pool.terminate()\n",
    "\n",
    "    pm = np.array(pm,dtype=object)\n",
    "    #if(not plotFlag): np.save(root+\"figs/PM_radec_Mock0.npy\", pm)\n",
    "    print \"counter=total no of rows added to file\", counterForRows\n"
   ]
  },
  {
   "cell_type": "code",
   "execution_count": null,
   "metadata": {},
   "outputs": [],
   "source": []
  }
 ],
 "metadata": {
  "kernelspec": {
   "display_name": "Python 2",
   "language": "python",
   "name": "python2"
  },
  "language_info": {
   "codemirror_mode": {
    "name": "ipython",
    "version": 2
   },
   "file_extension": ".py",
   "mimetype": "text/x-python",
   "name": "python",
   "nbconvert_exporter": "python",
   "pygments_lexer": "ipython2",
   "version": "2.7.15"
  }
 },
 "nbformat": 4,
 "nbformat_minor": 2
}
